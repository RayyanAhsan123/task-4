{
  "nbformat": 4,
  "nbformat_minor": 0,
  "metadata": {
    "colab": {
      "provenance": []
    },
    "kernelspec": {
      "name": "python3",
      "display_name": "Python 3"
    },
    "language_info": {
      "name": "python"
    }
  },
  "cells": [
    {
      "cell_type": "code",
      "execution_count": null,
      "metadata": {
        "colab": {
          "base_uri": "https://localhost:8080/"
        },
        "id": "ePWjP4fovOk6",
        "outputId": "24f77af3-e879-4efb-dc52-b5d05e9865ff"
      },
      "outputs": [
        {
          "name": "stdout",
          "output_type": "stream",
          "text": [
            "💬 General Health Query Chatbot (Claude version) (type 'quit' to exit)\n",
            "\n",
            "You: What are the symptoms of vitamin D deficiency?\n"
          ]
        },
        {
          "output_type": "stream",
          "name": "stderr",
          "text": [
            "/tmp/ipython-input-3043824725.py:24: DeprecationWarning: The model 'claude-3-5-sonnet-20241022' is deprecated and will reach end-of-life on October 22, 2025.\n",
            "Please migrate to a newer model. Visit https://docs.anthropic.com/en/docs/resources/model-deprecations for more information.\n",
            "  response = client.messages.create(\n"
          ]
        },
        {
          "output_type": "stream",
          "name": "stdout",
          "text": [
            "Bot: Common symptoms of vitamin D deficiency include:\n",
            "\n",
            "1. Fatigue and tiredness\n",
            "2. Bone and muscle pain\n",
            "3. Muscle weakness, particularly in the legs\n",
            "4. Bone loss (osteoporosis)\n",
            "5. Depression or mood changes\n",
            "6. Impaired wound healing\n",
            "7. Increased susceptibility to infections\n",
            "8. Hair loss\n",
            "9. Back pain\n",
            "10. Joint pain\n",
            "\n",
            "Risk factors for vitamin D deficiency include:\n",
            "- Limited sun exposure\n",
            "- Dark skin\n",
            "- Obesity\n",
            "- Age (older adults)\n",
            "- Limited dietary sources of vitamin D\n",
            "- Certain medical conditions affecting absorption\n",
            "\n",
            "It's important to note that some people with vitamin D deficiency may not show obvious symptoms. If you suspect you have a deficiency, please consult your healthcare provider. They can perform a simple blood test to check your vitamin D levels and recommend appropriate supplementation if needed.\n",
            "\n",
            "Remember that self-diagnosing and self-supplementing without proper medical guidance isn't recommended, as too much vitamin D can also be harmful.\n",
            "\n"
          ]
        }
      ],
      "source": [
        "from anthropic import Anthropic\n",
        "\n",
        "# === STEP 1: Configure Anthropic client ===\n",
        "\n",
        "\n",
        "# === STEP 2: Safety Check Function ===\n",
        "def safety_filter(user_input):\n",
        "    blocked_keywords = [\"suicide\", \"kill myself\", \"overdose\", \"poison\", \"self-harm\", \"emergency\"]\n",
        "    return any(keyword.lower() in user_input.lower() for keyword in blocked_keywords)\n",
        "\n",
        "# === STEP 3: Chatbot Function ===\n",
        "def health_chatbot(user_input):\n",
        "    if safety_filter(user_input):\n",
        "        return \"⚠️ This sounds serious. Please contact emergency services or a healthcare professional immediately.\"\n",
        "\n",
        "    system_prompt = (\n",
        "        \"You are a helpful and friendly medical assistant. \"\n",
        "        \"You answer general health questions with safe, factual information \"\n",
        "        \"and remind users to consult a healthcare professional for any diagnosis or treatment. \"\n",
        "        \"Never give emergency instructions or prescriptions.\"\n",
        "    )\n",
        "\n",
        "    # Correct Anthropic call\n",
        "    response = client.messages.create(\n",
        "        model=\"claude-3-5-sonnet-20241022\",  # Updated model version\n",
        "        system=system_prompt,\n",
        "        max_tokens=250,\n",
        "        temperature=0.5,\n",
        "        messages=[\n",
        "            {\"role\": \"user\", \"content\": user_input}\n",
        "        ]\n",
        "    )\n",
        "\n",
        "    return response.content[0].text.strip()\n",
        "\n",
        "# === STEP 4: Main Loop ===\n",
        "print(\"💬 General Health Query Chatbot (Claude version) (type 'quit' to exit)\\n\")\n",
        "while True:\n",
        "    user_query = input(\"You: \")\n",
        "    if user_query.lower() in [\"quit\", \"exit\"]:\n",
        "        print(\"Bot: Take care and stay healthy! 👋\")\n",
        "        break\n",
        "    answer = health_chatbot(user_query)\n",
        "    print(f\"Bot: {answer}\\n\")\n"
      ]
    },
    {
      "cell_type": "code",
      "source": [],
      "metadata": {
        "id": "pn9YMOeszuTc"
      },
      "execution_count": null,
      "outputs": []
    },
    {
      "cell_type": "code",
      "source": [
        "!pip install anthropic\n"
      ],
      "metadata": {
        "colab": {
          "base_uri": "https://localhost:8080/"
        },
        "id": "55aSwQyxvW1s",
        "outputId": "3b8303f0-356a-4798-fa22-6198d66561ea"
      },
      "execution_count": 7,
      "outputs": [
        {
          "output_type": "stream",
          "name": "stdout",
          "text": [
            "Collecting anthropic\n",
            "  Downloading anthropic-0.64.0-py3-none-any.whl.metadata (27 kB)\n",
            "Requirement already satisfied: anyio<5,>=3.5.0 in /usr/local/lib/python3.11/dist-packages (from anthropic) (4.10.0)\n",
            "Requirement already satisfied: distro<2,>=1.7.0 in /usr/local/lib/python3.11/dist-packages (from anthropic) (1.9.0)\n",
            "Requirement already satisfied: httpx<1,>=0.25.0 in /usr/local/lib/python3.11/dist-packages (from anthropic) (0.28.1)\n",
            "Requirement already satisfied: jiter<1,>=0.4.0 in /usr/local/lib/python3.11/dist-packages (from anthropic) (0.10.0)\n",
            "Requirement already satisfied: pydantic<3,>=1.9.0 in /usr/local/lib/python3.11/dist-packages (from anthropic) (2.11.7)\n",
            "Requirement already satisfied: sniffio in /usr/local/lib/python3.11/dist-packages (from anthropic) (1.3.1)\n",
            "Requirement already satisfied: typing-extensions<5,>=4.10 in /usr/local/lib/python3.11/dist-packages (from anthropic) (4.14.1)\n",
            "Requirement already satisfied: idna>=2.8 in /usr/local/lib/python3.11/dist-packages (from anyio<5,>=3.5.0->anthropic) (3.10)\n",
            "Requirement already satisfied: certifi in /usr/local/lib/python3.11/dist-packages (from httpx<1,>=0.25.0->anthropic) (2025.8.3)\n",
            "Requirement already satisfied: httpcore==1.* in /usr/local/lib/python3.11/dist-packages (from httpx<1,>=0.25.0->anthropic) (1.0.9)\n",
            "Requirement already satisfied: h11>=0.16 in /usr/local/lib/python3.11/dist-packages (from httpcore==1.*->httpx<1,>=0.25.0->anthropic) (0.16.0)\n",
            "Requirement already satisfied: annotated-types>=0.6.0 in /usr/local/lib/python3.11/dist-packages (from pydantic<3,>=1.9.0->anthropic) (0.7.0)\n",
            "Requirement already satisfied: pydantic-core==2.33.2 in /usr/local/lib/python3.11/dist-packages (from pydantic<3,>=1.9.0->anthropic) (2.33.2)\n",
            "Requirement already satisfied: typing-inspection>=0.4.0 in /usr/local/lib/python3.11/dist-packages (from pydantic<3,>=1.9.0->anthropic) (0.4.1)\n",
            "Downloading anthropic-0.64.0-py3-none-any.whl (297 kB)\n",
            "\u001b[2K   \u001b[90m━━━━━━━━━━━━━━━━━━━━━━━━━━━━━━━━━━━━━━━━\u001b[0m \u001b[32m297.2/297.2 kB\u001b[0m \u001b[31m2.7 MB/s\u001b[0m eta \u001b[36m0:00:00\u001b[0m\n",
            "\u001b[?25hInstalling collected packages: anthropic\n",
            "Successfully installed anthropic-0.64.0\n"
          ]
        }
      ]
    },
    {
      "cell_type": "code",
      "source": [],
      "metadata": {
        "id": "wqnXRqdTzImO"
      },
      "execution_count": null,
      "outputs": []
    }
  ]
}